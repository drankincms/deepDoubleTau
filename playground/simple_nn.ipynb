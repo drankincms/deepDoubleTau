{
 "cells": [
  {
   "cell_type": "markdown",
   "metadata": {},
   "source": [
    "# DeepDoubleTau"
   ]
  },
  {
   "cell_type": "markdown",
   "metadata": {},
   "source": [
    "## Setup"
   ]
  },
  {
   "cell_type": "code",
   "execution_count": 90,
   "metadata": {},
   "outputs": [],
   "source": [
    "import os,sys\n",
    "os.environ['KERAS_BACKEND'] = 'tensorflow'\n",
    "os.environ['CUDA_VISIBLE_DEVICES'] = '0'\n",
    "import tensorflow as tf\n",
    "#import keras\n",
    "import numpy as np\n",
    "#from keras import backend as K\n",
    "#from tensorflow.python.client import device_lib\n",
    "#device_lib.list_local_devices()\n",
    "from tensorflow.keras import backend\n",
    "from optparse import OptionParser\n",
    "import pandas as pd\n",
    "import h5py\n",
    "import json\n",
    "from tensorflow.keras.losses import categorical_crossentropy\n",
    "from tensorflow.keras.optimizers import Adam, Nadam, SGD\n",
    "from tensorflow.keras.utils import to_categorical\n",
    "import matplotlib\n",
    "matplotlib.use('agg')\n",
    "import matplotlib.pyplot as plt\n",
    "from tensorflow.keras.layers import Input, Dense, Dropout, Activation, Concatenate, BatchNormalization, GRU, Add, Reshape\n",
    "from tensorflow.keras.models import Model \n",
    "from tensorflow.keras.regularizers import l1\n",
    "from sklearn.model_selection import train_test_split\n",
    "from sklearn import preprocessing\n",
    "from sklearn.metrics import roc_curve, auc, roc_auc_score\n",
    "from tensorflow.keras.models import model_from_json\n",
    "import yaml\n",
    "from scipy.interpolate import griddata\n",
    "import yaml\n",
    "\n",
    "colorlist = ['blue','orange','green','red','purple','brown','darkgrey','cyan','deepskyblue','dimgrey','lightcoral','teal','darkviolet','magenta','chocolate','dodgerblue','olive','lawngreen','paleturquoise','darkred']\n",
    "\n",
    "with open(\"../pf.json\") as jsonfile:\n",
    "    payload = json.load(jsonfile)\n",
    "    weight = payload['weight']\n",
    "    features = payload['features']\n",
    "    altfeatures = payload['altfeatures']\n",
    "    cut = payload['cut']\n",
    "    ss = payload['ss_vars']\n",
    "    label = payload['!decayType']\n",
    "\n",
    "# columns declared in file\n",
    "lColumns = weight + ss\n",
    "nparts = 30\n",
    "lPartfeatures = []\n",
    "for iVar in features:\n",
    "    for i0 in range(nparts):\n",
    "        lPartfeatures.append(iVar+str(i0))\n",
    "nsvs = 5\n",
    "lSVfeatures = []\n",
    "for iVar in altfeatures:\n",
    "    for i0 in range(nsvs):\n",
    "        lSVfeatures.append(iVar+str(i0))\n",
    "lColumns = lColumns + lPartfeatures + lSVfeatures + [label]\n",
    "\n",
    "features_to_plot = weight + ss\n",
    "\n",
    "fill_factor = 5\n",
    "\n",
    "feature_range = {\n",
    "        \"fj_msd\":[40.,215.],\n",
    "        \"fj_pt\":[300.,700.],\n",
    "        }\n",
    "\n",
    "bin_dict = {\n",
    "        \"fj_pt\":np.arange(300.,825.,25.),\n",
    "        \"fj_msd\":np.arange(40.,215.,5.),\n",
    "        }\n",
    "\n",
    "mincut = -1.\n",
    "maxcut = 1.\n",
    "stepsize = 0.05\n",
    "ddt_pts = [0.01,0.05,0.1,0.5]"
   ]
  },
  {
   "cell_type": "markdown",
   "metadata": {},
   "source": [
    "### Load data\n",
    "#### The number of particle features and number of SV (particle collection) features we want to use in the network as input can be controlled by changing `iNparts` and `iNSVs`\n",
    "#### You can also remove variables by altering `selPartfeatures` or `selSVfeatures` as you like"
   ]
  },
  {
   "cell_type": "code",
   "execution_count": 190,
   "metadata": {},
   "outputs": [
    {
     "name": "stderr",
     "output_type": "stream",
     "text": [
      "/home/drankin/miniconda3/envs/training/lib/python3.6/site-packages/ipykernel_launcher.py:6: H5pyDeprecationWarning: The default file mode will change to 'r' (read-only) in h5py 3.0. To suppress this warning, pass the mode you need to h5py.File(), or set the global default h5.get_config().default_file_mode, or set the environment variable H5PY_DEFAULT_READONLY=1. Available modes are: 'r', 'r+', 'w', 'w-'/'x', 'a'. See the docs for details.\n",
      "  \n"
     ]
    },
    {
     "name": "stdout",
     "output_type": "stream",
     "text": [
      "(1107531, 370)\n"
     ]
    }
   ],
   "source": [
    "iFile = '../comb_distcut5_hadhad.z'\n",
    "iNparts = 5\n",
    "iNSVs = 1\n",
    "\n",
    "\n",
    "h5File = h5py.File(iFile)\n",
    "treeArray = h5File['deepDoubleTau'][()]\n",
    "print(treeArray.shape)\n",
    "\n",
    "features_labels_df = pd.DataFrame(treeArray,columns=lColumns)\n",
    "    \n",
    "idconv = {211.:1, 13.:2,  22.:3,  11.:4, 130.:5, 1.:6, 2.:7, 3.:8, 4.:9,\n",
    "        5.:10, -211.:1, -13.:2,\n",
    "        -11.:4, -1.:-6, -2.:7, -3.:8, -4.:9, -5.:10, 0.:0}\n",
    "for i0 in range(nparts):\n",
    "    features_labels_df['PF_id'+str(i0)] = features_labels_df['PF_id'+str(i0)].map(idconv)\n",
    "selPartfeatures = []\n",
    "for iVar in features:\n",
    "    #if (iVar.startswith(\"PF_pt\")): continue #this would cause all PF_pt variables to not be included\n",
    "    for i0 in range(iNparts):\n",
    "        selPartfeatures.append(iVar+str(i0))\n",
    "selSVfeatures = []\n",
    "for iVar in altfeatures:\n",
    "    for i0 in range(iNSVs):\n",
    "        selSVfeatures.append(iVar+str(i0))\n",
    "features_df        = features_labels_df[selPartfeatures].values\n",
    "features_sv_df        = features_labels_df[selSVfeatures].values\n",
    "labels          = features_labels_df[label]\n",
    "#features_val       = features_df.values\n",
    "feat_val           = features_labels_df[features_to_plot].values\n",
    "\n",
    "for p in selPartfeatures:\n",
    "    if (features_labels_df[p].isna().sum()>0): print(p,\"found nan!!\")\n",
    "for s in selSVfeatures:\n",
    "    if (features_labels_df[p].isna().sum()>0): print(p,\"found nan!!\")\n",
    "\n",
    "#features_df = features_df.reshape(-1,iNparts,len(features))\n",
    "#features_sv_df = features_sv_df.reshape(-1,iNSVs,len(altfeatures))\n",
    "\n",
    "features_val = np.nan_to_num(features_df,posinf=9999., neginf=-9999.)\n",
    "features_sv_val = np.nan_to_num(features_sv_df,posinf=9999., neginf=-9999.)\n",
    "labels_val = labels\n",
    "feat_val = np.nan_to_num(feat_val,posinf=9999., neginf=-9999.)\n",
    "\n",
    "# split into random test and train subsets \n",
    "X_train, X_test, Xalt_train, Xalt_test, Y_train, Y_test, feat_train, feat_test = train_test_split(features_val, features_sv_val, labels_val, feat_val, test_size=0.2, random_state=42)\n",
    "#scaler_alt = preprocessing.StandardScaler().fit(Xalt_train)\n",
    "#Xalt_train     = scaler_alt.transform(Xalt_train)\n",
    "#Xalt_test      = scaler_alt.transform(Xalt_test)"
   ]
  },
  {
   "cell_type": "markdown",
   "metadata": {},
   "source": [
    "### What did we just do?\n",
    "#### We read in a file `../comb_distcut5_hadhad.z` with all the data we might want\n",
    "#### `features_label_df` contains everything"
   ]
  },
  {
   "cell_type": "code",
   "execution_count": 191,
   "metadata": {},
   "outputs": [
    {
     "name": "stdout",
     "output_type": "stream",
     "text": [
      "          fj_pt    fj_msd       fj_n2b1  fj_deepTagZqq    PF_pt0    PF_pt1  \\\n",
      "0        578.00  107.5000 -99968.000000       0.005844  0.198242  0.197754   \n",
      "1        388.50  106.6875 -99968.000000       0.030888  0.354980  0.169678   \n",
      "2        300.50  113.7500 -99968.000000       0.001955  0.321045  0.231323   \n",
      "3        396.25   96.0625 -99968.000000       0.532652  0.703613  0.172119   \n",
      "4        335.50  107.1875 -99968.000000       0.000024  0.264648  0.160767   \n",
      "...         ...       ...           ...            ...       ...       ...   \n",
      "1107526  787.00  233.3750      0.346680       0.100860  0.139526  0.128052   \n",
      "1107527  783.00  238.8750      0.192383       0.022303  0.167358  0.143799   \n",
      "1107528  799.00  232.6250 -99968.000000       0.025328  0.095032  0.092468   \n",
      "1107529  776.00  239.1250 -99968.000000       0.047624  0.381104  0.110107   \n",
      "1107530  790.00  232.7500 -99968.000000       0.005076  0.187988  0.108093   \n",
      "\n",
      "           PF_pt2    PF_pt3    PF_pt4    PF_pt5  ...   sv_eta1   sv_eta2  \\\n",
      "0        0.175415  0.170044  0.109070  0.007233  ...  0.000000  0.000000   \n",
      "1        0.117188  0.101746  0.066650  0.040466  ...  0.000000  0.000000   \n",
      "2        0.134155  0.128418  0.062500  0.034515  ...  0.000000  0.000000   \n",
      "3        0.031586  0.007103  0.006317  0.005062  ...  0.000000  0.000000   \n",
      "4        0.119568  0.070496  0.063293  0.062744  ... -0.401367  0.000000   \n",
      "...           ...       ...       ...       ...  ...       ...       ...   \n",
      "1107526  0.047699  0.040741  0.040009  0.039551  ...  0.000000  0.000000   \n",
      "1107527  0.072815  0.057159  0.056793  0.036163  ... -0.204834  0.396973   \n",
      "1107528  0.075073  0.069458  0.049530  0.048340  ...  0.000000  0.000000   \n",
      "1107529  0.068176  0.054443  0.035553  0.026337  ...  0.000000  0.000000   \n",
      "1107530  0.095337  0.071411  0.057251  0.048523  ...  0.000000  0.000000   \n",
      "\n",
      "          sv_eta3   sv_eta4   sv_phi0   sv_phi1   sv_phi2   sv_phi3   sv_phi4  \\\n",
      "0        0.000000  0.000000  0.000000  0.000000  0.000000  0.000000  0.000000   \n",
      "1        0.000000  0.000000  0.000000  0.000000  0.000000  0.000000  0.000000   \n",
      "2        0.000000  0.000000  0.328369  0.000000  0.000000  0.000000  0.000000   \n",
      "3        0.000000  0.000000  0.000000  0.000000  0.000000  0.000000  0.000000   \n",
      "4        0.000000  0.000000  0.019348 -0.024658  0.000000  0.000000  0.000000   \n",
      "...           ...       ...       ...       ...       ...       ...       ...   \n",
      "1107526  0.000000  0.000000 -0.049805  0.000000  0.000000  0.000000  0.000000   \n",
      "1107527  0.425293  0.414551  0.106934  0.118164 -0.156738 -0.186523 -0.178223   \n",
      "1107528  0.000000  0.000000  0.000000  0.000000  0.000000  0.000000  0.000000   \n",
      "1107529  0.000000  0.000000  0.337646  0.000000  0.000000  0.000000  0.000000   \n",
      "1107530  0.000000  0.000000  0.000000  0.000000  0.000000  0.000000  0.000000   \n",
      "\n",
      "         fj_decayType  \n",
      "0                 1.0  \n",
      "1                 1.0  \n",
      "2                 1.0  \n",
      "3                 1.0  \n",
      "4                 1.0  \n",
      "...               ...  \n",
      "1107526           0.0  \n",
      "1107527           0.0  \n",
      "1107528           0.0  \n",
      "1107529           0.0  \n",
      "1107530           0.0  \n",
      "\n",
      "[1107531 rows x 370 columns]\n",
      "(886024, 63)\n"
     ]
    }
   ],
   "source": [
    "print(features_labels_df)\n",
    "print(np.concatenate([X_train,Xalt_train],axis=1).shape)"
   ]
  },
  {
   "cell_type": "markdown",
   "metadata": {},
   "source": [
    "#### The `fj_*` and `sv_*` variables relate to collections of particles, the `PF_*` variables relate to each individual particle\n",
    "#### In total we have 1107531 different data points, and 370 different possible input variables\n",
    "#### We dont want to use all 370, so I have restricted us to training with 80% of the data points and 63 of the variables (10 variables from 5 particles, and 13 variables from 1 collection of particles"
   ]
  },
  {
   "cell_type": "markdown",
   "metadata": {},
   "source": [
    "#### We have also split up the data into a training set and a test set\n",
    "#### We can print the different labels for the data like so (this is just for the first set of training data\n",
    "#### The `selPartfeatures` are the variables related to each particle\n",
    "#### The `selSVfeatures` are the variables related to each collection of particles"
   ]
  },
  {
   "cell_type": "code",
   "execution_count": 192,
   "metadata": {},
   "outputs": [
    {
     "name": "stdout",
     "output_type": "stream",
     "text": [
      "['PF_pt0', 'PF_pt1', 'PF_pt2', 'PF_pt3', 'PF_pt4', 'PF_eta0', 'PF_eta1', 'PF_eta2', 'PF_eta3', 'PF_eta4', 'PF_phi0', 'PF_phi1', 'PF_phi2', 'PF_phi3', 'PF_phi4', 'PF_q0', 'PF_q1', 'PF_q2', 'PF_q3', 'PF_q4', 'PF_dz0', 'PF_dz1', 'PF_dz2', 'PF_dz3', 'PF_dz4', 'PF_dxy0', 'PF_dxy1', 'PF_dxy2', 'PF_dxy3', 'PF_dxy4', 'PF_dxyerr0', 'PF_dxyerr1', 'PF_dxyerr2', 'PF_dxyerr3', 'PF_dxyerr4', 'PF_pup0', 'PF_pup1', 'PF_pup2', 'PF_pup3', 'PF_pup4', 'PF_pupnolep0', 'PF_pupnolep1', 'PF_pupnolep2', 'PF_pupnolep3', 'PF_pupnolep4', 'PF_id0', 'PF_id1', 'PF_id2', 'PF_id3', 'PF_id4']\n",
      "[ 1.30981445e-01  1.13220215e-01  9.33227539e-02  7.42797852e-02\n",
      "  7.06787109e-02 -1.17431641e-01 -1.07910156e-01 -1.12548828e-01\n",
      "  4.18212891e-01 -1.20605469e-01 -9.27734375e-03 -8.05664062e-03\n",
      "  3.41796875e-03  7.99560547e-02  4.88281250e-03  1.00000000e+00\n",
      " -1.00000000e+00  0.00000000e+00  0.00000000e+00 -1.00000000e+00\n",
      "  1.02996826e-02  2.51531601e-05 -1.00000000e+00 -1.00000000e+00\n",
      "  6.49929047e-04  4.45175171e-03  2.49099731e-03 -1.00000000e+00\n",
      " -1.00000000e+00 -4.49180603e-04  1.10054016e-03  1.07765198e-03\n",
      " -1.00000000e+00 -1.00000000e+00  1.29318237e-03  1.00000000e+00\n",
      "  1.00000000e+00  1.00000000e+00  1.00000000e+00  1.00000000e+00\n",
      "  1.00000000e+00  1.00000000e+00  1.00000000e+00  1.00000000e+00\n",
      "  1.00000000e+00  1.00000000e+00  1.00000000e+00  3.00000000e+00\n",
      "  3.00000000e+00  1.00000000e+00]\n",
      "['sv_dlen0', 'sv_dlenSig0', 'sv_dxy0', 'sv_dxySig0', 'sv_chi20', 'sv_pAngle0', 'sv_x0', 'sv_y0', 'sv_z0', 'sv_pt0', 'sv_mass0', 'sv_eta0', 'sv_phi0']\n",
      "[ 0.32910156  4.2265625   0.17431641  4.171875    0.95898438  3.12695312\n",
      "  0.12145996 -0.02770996 -4.5234375   0.02450562  0.53125    -0.14379883\n",
      " -0.02392578]\n"
     ]
    }
   ],
   "source": [
    "print(selPartfeatures)\n",
    "print(X_train[1])\n",
    "print(selSVfeatures)\n",
    "print(Xalt_train[1])"
   ]
  },
  {
   "cell_type": "markdown",
   "metadata": {},
   "source": [
    "### Now we define the model we want to use and actually train it\n",
    "#### This is where you can start to play around with things\n",
    "#### `model_Dense` specifies an example dense neural network you can start from\n",
    "#### This also saves a file `model_dense.png` with a graphic of the network and prints out some info about the network"
   ]
  },
  {
   "cell_type": "code",
   "execution_count": 193,
   "metadata": {},
   "outputs": [
    {
     "name": "stdout",
     "output_type": "stream",
     "text": [
      "Tensor(\"input_61:0\", shape=(?, 50), dtype=float32)\n",
      "Tensor(\"altinput_61:0\", shape=(?, 13), dtype=float32)\n",
      "classifier <tensorflow.python.keras.engine.training.Model object at 0x7fbde7130c88>\n",
      "__________________________________________________________________________________________________\n",
      "Layer (type)                    Output Shape         Param #     Connected to                     \n",
      "==================================================================================================\n",
      "input (InputLayer)              (None, 50)           0                                            \n",
      "__________________________________________________________________________________________________\n",
      "altinput (InputLayer)           (None, 13)           0                                            \n",
      "__________________________________________________________________________________________________\n",
      "concatenate_53 (Concatenate)    (None, 63)           0           input[0][0]                      \n",
      "                                                                 altinput[0][0]                   \n",
      "__________________________________________________________________________________________________\n",
      "dense_268 (Dense)               (None, 500)          32000       concatenate_53[0][0]             \n",
      "__________________________________________________________________________________________________\n",
      "dropout_40 (Dropout)            (None, 500)          0           dense_268[0][0]                  \n",
      "__________________________________________________________________________________________________\n",
      "dense_269 (Dense)               (None, 200)          100200      dropout_40[0][0]                 \n",
      "__________________________________________________________________________________________________\n",
      "dropout_41 (Dropout)            (None, 200)          0           dense_269[0][0]                  \n",
      "__________________________________________________________________________________________________\n",
      "dense_270 (Dense)               (None, 100)          20100       dropout_41[0][0]                 \n",
      "__________________________________________________________________________________________________\n",
      "dropout_42 (Dropout)            (None, 100)          0           dense_270[0][0]                  \n",
      "__________________________________________________________________________________________________\n",
      "dense_271 (Dense)               (None, 10)           1010        dropout_42[0][0]                 \n",
      "__________________________________________________________________________________________________\n",
      "dense_272 (Dense)               (None, 1)            11          dense_271[0][0]                  \n",
      "==================================================================================================\n",
      "Total params: 153,321\n",
      "Trainable params: 153,321\n",
      "Non-trainable params: 0\n",
      "__________________________________________________________________________________________________\n",
      "None\n"
     ]
    }
   ],
   "source": [
    "def model_Dense(Inputs,Inputs_alt,X_train,Xalt_train,Y_train,NPARTS=iNparts,NSV=iNSVs):\n",
    "    CLR=0.00001\n",
    "    L1R=0.0001\n",
    "    print(Inputs)\n",
    "    print(Inputs_alt)\n",
    "\n",
    "    added = Concatenate()([Inputs, Inputs_alt])\n",
    "    \n",
    "    dense   = Dense(500, activation='relu')(added)\n",
    "    drop    = Dropout(0.1)(dense)\n",
    "    dense   = Dense(200, activation='relu')(drop)\n",
    "    drop    = Dropout(0.1)(dense)\n",
    "    dense   = Dense(100, activation='relu')(drop)\n",
    "    drop    = Dropout(0.1)(dense)\n",
    "    dense   = Dense(10, activation='relu',activity_regularizer=l1(L1R))(drop)\n",
    "    out     = Dense(1, activation='sigmoid')(dense)\n",
    "    \n",
    "    classifier = Model(inputs=[Inputs,Inputs_alt], outputs=[out])\n",
    "    lossfunction = 'binary_crossentropy'\n",
    "    classifier.compile(loss=[lossfunction], optimizer=Adam(CLR), metrics=['accuracy'])\n",
    "    models={'classifier' : classifier}\n",
    "    \n",
    "    return models\n",
    "\n",
    "#def model_CNN(Inputs,Inputs_alt,X_train,Xalt_train,Y_train,NPARTS=iNparts,NSV=iNSVs):\n",
    "#Maybe to be set up later?\n",
    "\n",
    "#this is a GRU (actually 2 of them), we can chat about it if you are interested\n",
    "def model_GRU(Inputs,Inputs_alt,X_train,Xalt_train,Y_train,NPARTS=iNparts,NSV=iNSVs):\n",
    "    CLR=0.001\n",
    "    L1R=0.001\n",
    "    print(Inputs)\n",
    "    print(Inputs_alt)\n",
    "\n",
    "    reshape = Reshape((NPARTS,len(features)))(Inputs)\n",
    "    gru = GRU(100,activation='relu',recurrent_activation='hard_sigmoid',name='gru_base',activity_regularizer=l1(L1R))(reshape)\n",
    "    dense   = Dense(100, activation='relu',activity_regularizer=l1(L1R))(gru)\n",
    "    norm    = BatchNormalization(momentum=0.6, name='dense4_bnorm')  (dense)\n",
    "\n",
    "    reshape_alt = Reshape((NSV,len(altfeatures)))(Inputs_alt)\n",
    "    gru_alt = GRU(100,activation='relu',recurrent_activation='hard_sigmoid',name='gru_base_alt',activity_regularizer=l1(L1R))(reshape_alt)\n",
    "    dense_alt   = Dense(100, activation='relu',activity_regularizer=l1(L1R))(gru_alt)\n",
    "    norm_alt    = BatchNormalization(momentum=0.6, name='dense4_bnorm_alt')  (dense_alt)\n",
    "\n",
    "    added = Add()([norm, norm_alt])\n",
    "\n",
    "    dense   = Dense(50, activation='relu',activity_regularizer=l1(L1R))(added)\n",
    "    norm    = BatchNormalization(momentum=0.6, name='dense5_bnorm')  (dense)\n",
    "    dense   = Dense(20, activation='relu',activity_regularizer=l1(L1R))(norm)\n",
    "    dense   = Dense(10, activation='relu',activity_regularizer=l1(L1R))(dense)\n",
    "    out     = Dense(1, activation='sigmoid',activity_regularizer=l1(L1R))(norm)\n",
    "    \n",
    "    classifier = Model(inputs=[Inputs,Inputs_alt], outputs=[out])\n",
    "    lossfunction = 'binary_crossentropy'\n",
    "    classifier.compile(loss=[lossfunction], optimizer=Adam(CLR), metrics=['accuracy'])\n",
    "    models={'classifier' : classifier}\n",
    "    \n",
    "    return models\n",
    "\n",
    "\n",
    "from tensorflow.keras.utils import plot_model\n",
    "\n",
    "inputvars=Input(shape=X_train.shape[1:], name='input')\n",
    "inputvars_alt=Input(shape=Xalt_train.shape[1:], name='altinput')\n",
    "models = model_Dense(inputvars,inputvars_alt,X_train,Xalt_train,Y_train)\n",
    "for m in models:\n",
    "    print(str(m), models[m])\n",
    "    plot_model(models[m], show_shapes=True, to_file='model_dense.png')\n",
    "    print(models['classifier'].summary())\n",
    "\n",
    "    "
   ]
  },
  {
   "cell_type": "markdown",
   "metadata": {},
   "source": [
    "### Train!\n",
    "##### I'm not actually sure why the first epoch sometimes ends up with a loss of `nan` (not a number, usually from infinity or 0/0 or something)"
   ]
  },
  {
   "cell_type": "code",
   "execution_count": 197,
   "metadata": {
    "scrolled": false
   },
   "outputs": [
    {
     "name": "stdout",
     "output_type": "stream",
     "text": [
      "Train on 708819 samples, validate on 177205 samples\n",
      "Epoch 1/10\n",
      "708819/708819 [==============================] - 5s 7us/step - loss: 0.5574 - acc: 0.8760 - val_loss: 0.5311 - val_acc: 0.8730\n",
      "Epoch 2/10\n",
      "708819/708819 [==============================] - 5s 7us/step - loss: 0.5398 - acc: 0.8849 - val_loss: 0.5225 - val_acc: 0.8938\n",
      "Epoch 3/10\n",
      "708819/708819 [==============================] - 5s 7us/step - loss: 0.5288 - acc: 0.8948 - val_loss: 0.5096 - val_acc: 0.8983\n",
      "Epoch 4/10\n",
      "708819/708819 [==============================] - 5s 7us/step - loss: 0.5194 - acc: 0.8982 - val_loss: 0.5017 - val_acc: 0.8996\n",
      "Epoch 5/10\n",
      "708819/708819 [==============================] - 5s 7us/step - loss: 0.5111 - acc: 0.9002 - val_loss: 0.4955 - val_acc: 0.9008\n",
      "Epoch 6/10\n",
      "708819/708819 [==============================] - 5s 7us/step - loss: 0.5033 - acc: 0.9029 - val_loss: 0.4883 - val_acc: 0.9032\n",
      "Epoch 7/10\n",
      "708819/708819 [==============================] - 5s 7us/step - loss: 0.4960 - acc: 0.9049 - val_loss: 0.4816 - val_acc: 0.9060\n",
      "Epoch 8/10\n",
      "708819/708819 [==============================] - 5s 7us/step - loss: 0.4887 - acc: 0.9079 - val_loss: 0.4732 - val_acc: 0.9108\n",
      "Epoch 9/10\n",
      "708819/708819 [==============================] - 5s 7us/step - loss: 0.4815 - acc: 0.9114 - val_loss: 0.4662 - val_acc: 0.9153\n",
      "Epoch 10/10\n",
      "708819/708819 [==============================] - 5s 7us/step - loss: 0.4748 - acc: 0.9154 - val_loss: 0.4585 - val_acc: 0.9205\n"
     ]
    }
   ],
   "source": [
    "def train(models,X_train,Xalt_train,Y_train,feat_train):\n",
    "    NEPOCHS=10\n",
    "    Obatch_size=1000\n",
    "    \n",
    "    history = {}\n",
    "    history[\"classifier\"] = models['classifier'].fit([X_train,Xalt_train],\n",
    "            Y_train,epochs=NEPOCHS,verbose=1,batch_size=Obatch_size,\n",
    "            validation_split=0.2)\n",
    "     \n",
    "    return history\n",
    "\n",
    "history = train(models,X_train,Xalt_train,Y_train,feat_train)"
   ]
  },
  {
   "cell_type": "markdown",
   "metadata": {},
   "source": [
    "#### We can make the predictions and look at a few example data points"
   ]
  },
  {
   "cell_type": "code",
   "execution_count": 198,
   "metadata": {},
   "outputs": [
    {
     "name": "stdout",
     "output_type": "stream",
     "text": [
      "715268     0.0\n",
      "267795     0.0\n",
      "721040     0.0\n",
      "422739     0.0\n",
      "44476      1.0\n",
      "1030072    0.0\n",
      "594122     0.0\n",
      "467612     0.0\n",
      "56567      1.0\n",
      "475000     0.0\n",
      "Name: fj_decayType, dtype: float64\n",
      "[[0.1988123 ]\n",
      " [0.17133944]\n",
      " [0.19705267]\n",
      " [0.14950904]\n",
      " [0.16848205]\n",
      " [0.2652633 ]\n",
      " [0.18710305]\n",
      " [0.19552602]\n",
      " [0.3984027 ]\n",
      " [0.21329054]]\n"
     ]
    }
   ],
   "source": [
    "Y_pred = models['classifier'].predict([X_test,Xalt_test])\n",
    "print(Y_test[:10])\n",
    "print(Y_pred[:10])"
   ]
  },
  {
   "cell_type": "markdown",
   "metadata": {},
   "source": [
    "#### Take a look at the trained model"
   ]
  },
  {
   "cell_type": "code",
   "execution_count": 199,
   "metadata": {},
   "outputs": [
    {
     "data": {
      "image/png": "[encoded data removed]",
      "text/plain": [
       "<Figure size 432x288 with 1 Axes>"
      ]
     },
     "metadata": {
      "needs_background": "light"
     },
     "output_type": "display_data"
    },
    {
     "data": {
      "image/png": "[encoded data removed]",
      "text/plain": [
       "<Figure size 432x288 with 1 Axes>"
      ]
     },
     "metadata": {
      "needs_background": "light"
     },
     "output_type": "display_data"
    },
    {
     "name": "stdout",
     "output_type": "stream",
     "text": [
      "in test\n",
      "[0, 0]\n",
      "\t 193856\n",
      "[1, 1]\n",
      "\t 27651\n",
      "now plotting roc\n"
     ]
    },
    {
     "data": {
      "image/png": "[encoded data removed]",
      "text/plain": [
       "<Figure size 432x288 with 1 Axes>"
      ]
     },
     "metadata": {
      "needs_background": "light"
     },
     "output_type": "display_data"
    }
   ],
   "source": [
    "%matplotlib inline\n",
    "\n",
    "for m in models:\n",
    "    model_json = models[m].to_json()\n",
    "    with open(\"model_hadhad_\"+str(m)+\".json\", \"w\") as json_file:\n",
    "        json_file.write(model_json)\n",
    "    models[m].save_weights(\"model_hadhad_\"+str(m)+\".h5\")\n",
    "    \n",
    "    fig, axes = plt.subplots()\n",
    "    axes.plot(history[str(m)].history['acc'])\n",
    "    axes.plot(history[str(m)].history['val_acc'])\n",
    "    plt.title('model accuracy')\n",
    "    plt.ylabel('accuracy')\n",
    "    plt.xlabel('epoch')\n",
    "    plt.legend(['train', 'test'], loc='upper left')\n",
    "    plt.show()\n",
    "\n",
    "    fig, axes = plt.subplots()\n",
    "    axes.plot(history[str(m)].history['loss'])\n",
    "    axes.plot(history[str(m)].history['val_loss'])\n",
    "    plt.title('model loss')\n",
    "    plt.ylabel('loss')\n",
    "    plt.xlabel('epoch')\n",
    "    plt.legend(['train', 'test'], loc='upper left')\n",
    "    plt.show()\n",
    "    \n",
    "def plotROC(truth, scores,labels):\n",
    "    fig, axes = plt.subplots()\n",
    "    for j in range(len(truth)):\n",
    "        x,y,_ = roc_curve(truth[j],scores[j])\n",
    "        auc = roc_auc_score(truth[j],scores[j])\n",
    "        axes.plot(x,y,label='{}, AUC = {:.2f}'.format(labels[j],auc))\n",
    "    plt.legend(loc='lower right')\n",
    "    plt.xlabel('False positive rate')\n",
    "    plt.ylabel('True positive rate')\n",
    "    plt.show()\n",
    "    \n",
    "def test(models,X_test,Xalt_test,Y_test):#,feat_test):\n",
    "    model = models['classifier']\n",
    "    subsamples = [ \n",
    "                  [0,0], #bkg\n",
    "                  [1,1] ] #h tautau hadhad\n",
    "    labels     = [\"Bkg\",\"htt\"]\n",
    "    roclabels  =       [\"deepDoubleTau\"]\n",
    "    roclabels = roclabels\n",
    "    response_tests   = []\n",
    "    response_preds   = []\n",
    "    #feat_preds       = []\n",
    "    roc_preds        = []\n",
    "    roc_true         = []\n",
    "    i0=0\n",
    "    print('in test')\n",
    "    for subsample in subsamples:\n",
    "        print(subsample)\n",
    "        ids=np.logical_and(Y_test==subsample[0],Y_test==subsample[1])\n",
    "        tmpdata = [X_test[ids],Xalt_test[ids]]\n",
    "        #tmpfeat = feat_test[ids]\n",
    "        tmppred = model.predict(tmpdata)\n",
    "        print('\\t',len(tmppred))\n",
    "        response_tests.append(tmpdata)\n",
    "        response_preds.append(tmppred)\n",
    "        #feat_preds.append(tmpfeat)\n",
    "        if i0 > 0 and len(tmpdata[0]) > 0:\n",
    "            roc_true.append([])\n",
    "            roc_true[-1].extend(np.zeros(len(response_tests[0][0] )))\n",
    "            roc_true[-1].extend(np.ones (len(tmpdata[0])))\n",
    "            roc_preds.append([])\n",
    "            roc_preds[-1].extend(response_preds[0])\n",
    "            roc_preds[-1].extend(tmppred)\n",
    "\n",
    "        i0=i0+1\n",
    "\n",
    "    print('now plotting roc')\n",
    "    plotROC(roc_true, roc_preds, roclabels)\n",
    "    \n",
    "test(models,X_test,Xalt_test,Y_test)"
   ]
  },
  {
   "cell_type": "code",
   "execution_count": null,
   "metadata": {},
   "outputs": [],
   "source": []
  }
 ],
 "metadata": {
  "kernelspec": {
   "display_name": "training",
   "language": "python",
   "name": "training"
  },
  "language_info": {
   "codemirror_mode": {
    "name": "ipython",
    "version": 3
   },
   "file_extension": ".py",
   "mimetype": "text/x-python",
   "name": "python",
   "nbconvert_exporter": "python",
   "pygments_lexer": "ipython3",
   "version": "3.6.10"
  }
 },
 "nbformat": 4,
 "nbformat_minor": 2
}
